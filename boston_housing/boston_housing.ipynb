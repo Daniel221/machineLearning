{
 "cells": [
  {
   "cell_type": "markdown",
   "id": "dcf1cb7a",
   "metadata": {},
   "source": [
    "# Boston Housing\n",
    "Daniel Hernández Navarro\n",
    "Iñaki Orozco García"
   ]
  },
  {
   "cell_type": "code",
   "execution_count": null,
   "id": "1378b7ad",
   "metadata": {},
   "outputs": [],
   "source": [
    "filas = []\n",
    "with open('boston_corrected.txt', 'r') as file:\n",
    "    for line in file:\n",
    "        if(not(line[0].isalpha() or line[0].isspace())):\n",
    "            line = line.split(\"\\t\")\n",
    "            filas.append(line)"
   ]
  }
 ],
 "metadata": {
  "kernelspec": {
   "display_name": "Python 3",
   "language": "python",
   "name": "python3"
  },
  "language_info": {
   "codemirror_mode": {
    "name": "ipython",
    "version": 3
   },
   "file_extension": ".py",
   "mimetype": "text/x-python",
   "name": "python",
   "nbconvert_exporter": "python",
   "pygments_lexer": "ipython3",
   "version": "3.8.8"
  }
 },
 "nbformat": 4,
 "nbformat_minor": 5
}
